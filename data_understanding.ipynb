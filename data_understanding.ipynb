{
 "cells": [
  {
   "cell_type": "code",
   "execution_count": 18,
   "id": "initial_id",
   "metadata": {
    "collapsed": true
   },
   "outputs": [],
   "source": [
    "import pandas as pd\n",
    "import matplotlib.pyplot as plt\n",
    "import seaborn as sns"
   ]
  },
  {
   "cell_type": "markdown",
   "source": [
    "# Datensätze"
   ],
   "metadata": {
    "collapsed": false
   },
   "id": "d90765a02ac35496"
  },
  {
   "cell_type": "code",
   "execution_count": 19,
   "outputs": [],
   "source": [
    "df_train = pd.read_csv(\"dataset/dengue_features_train.csv\")\n",
    "df_labels = pd.read_csv(\"dataset/dengue_labels_train.csv\")"
   ],
   "metadata": {
    "collapsed": false
   },
   "id": "4043d63cdd4c8adf"
  },
  {
   "cell_type": "markdown",
   "source": [
    "# Teilung in sj und iq"
   ],
   "metadata": {
    "collapsed": false
   },
   "id": "ad81ef754a129a0d"
  },
  {
   "cell_type": "code",
   "execution_count": 20,
   "outputs": [],
   "source": [
    "df_sj_train = df_train.loc[df_train['city']=='sj']\n",
    "df_sj_labels = df_labels.loc[df_labels['city']=='sj']\n",
    "\n",
    "df_iq_train = df_train.loc[df_train['city']=='iq']\n",
    "df_iq_labels = df_labels.loc[df_labels['city']==('iq')]"
   ],
   "metadata": {
    "collapsed": false
   },
   "id": "4b8fe996e2224dc"
  },
  {
   "cell_type": "markdown",
   "source": [
    "# Visualisiere Daten"
   ],
   "metadata": {
    "collapsed": false
   },
   "id": "46802b9b05fb7ec5"
  },
  {
   "cell_type": "markdown",
   "source": [
    "## Fehlende Daten"
   ],
   "metadata": {
    "collapsed": false
   },
   "id": "5138779fd246eac0"
  },
  {
   "cell_type": "code",
   "execution_count": 23,
   "outputs": [],
   "source": [
    "sns.heatmap(df_sj_train.isnull(), cbar=False).set(title='San Juan Trainingsset')\n",
    "plt.show()"
   ],
   "metadata": {
    "collapsed": false
   },
   "id": "ed8611fe1a07f2a7"
  },
  {
   "cell_type": "code",
   "execution_count": 22,
   "outputs": [],
   "source": [
    "sns.heatmap(df_iq_train.isnull(), cbar=False).set(title='Iquitos Trainingsset')\n",
    "plt.show()"
   ],
   "metadata": {
    "collapsed": false
   },
   "id": "5e88710088b755ff"
  },
  {
   "cell_type": "markdown",
   "source": [
    "##  "
   ],
   "metadata": {
    "collapsed": false
   },
   "id": "a67bc4fc7912eb75"
  }
 ],
 "metadata": {
  "kernelspec": {
   "display_name": "Python 3",
   "language": "python",
   "name": "python3"
  },
  "language_info": {
   "codemirror_mode": {
    "name": "ipython",
    "version": 2
   },
   "file_extension": ".py",
   "mimetype": "text/x-python",
   "name": "python",
   "nbconvert_exporter": "python",
   "pygments_lexer": "ipython2",
   "version": "2.7.6"
  }
 },
 "nbformat": 4,
 "nbformat_minor": 5
}
